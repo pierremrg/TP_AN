{
 "cells": [
  {
   "cell_type": "markdown",
   "metadata": {},
   "source": [
    "# Algorithmes de descente en optimisation différentiable sans contrainte"
   ]
  },
  {
   "cell_type": "markdown",
   "metadata": {},
   "source": [
    "Mettez ci-dessous les imports classiques de librairie Python"
   ]
  },
  {
   "cell_type": "code",
   "execution_count": 1,
   "metadata": {
    "collapsed": true
   },
   "outputs": [],
   "source": [
    "%matplotlib inline\n",
    "import matplotlib.pyplot as plt\n",
    "import numpy as np\n",
    "import numpy.linalg as npl"
   ]
  },
  {
   "cell_type": "markdown",
   "metadata": {},
   "source": [
    "Dans ce TP, nous nous intéressons aux algorithmes pour la minimisation sans contrainte de fonctionnelles très générales: le problème s'écrit:\n",
    "\n",
    "$$\\min_{x\\in\\mathbb{R}^n} f(x).$$\n",
    "\n",
    "Le but de cette séance est l'écriture d'un code de minimisation locale, et l'évaluation de ses performances sur les fonctions tests suivantes:\n",
    "\n",
    "<li>$f_1(x,y) = 2(x+y-2)^2+(x-y)^2$.\n",
    "<li>$f_2(x,y) = 100(y-x^2)^2 + (1-x)^2$ (fonction de Rosenbrock).\n",
    "\n",
    "On appelle $\\textit{oracle}$ une routine qui à un $x$ donné, renvoie la valeur $f(x)$ du critère, le gradient $\\nabla f(x)$ (ou une approximation du gradient) s'il existe, et éventuellement la matrice Hessienne $H[f](x)$ (ou une approximation) si elle existe et si nécessaire:\n",
    "\n",
    "$$[f(x),\\nabla f(x),H[f](x)] = \\textrm{oracle}(x)$$\n",
    "\n",
    "> **A faire :** Calculer les gradients et les Hessiennes des deux fonctions proposées et implémenter les fonctions $\\textrm{oracle}$ correspondantes."
   ]
  },
  {
   "cell_type": "markdown",
   "metadata": {},
   "source": [
    ">**Réponse :** *On trouve les gradients\n",
    "$$\\nabla f_1(x) = \\begin{pmatrix}6x+2y-8\\\\6y+2x-8\\end{pmatrix} \\quad\\mbox{ et }\\quad \\nabla f_2(x) = \\begin{pmatrix}400(x^3-yx)+2(x-1)\\\\200(y-x^2)\\end{pmatrix}.$$\n",
    "Ainsi que les hessiennes\n",
    "$$H[f_1](x) = \\begin{pmatrix}6&2\\\\2&6\\end{pmatrix} \\quad\\mbox{ et }\\quad H[f_2](x) = \\begin{pmatrix}1200x^2 - 400y + 2 & -400x\\\\-400x&200\\end{pmatrix} .$$* "
   ]
  },
  {
   "cell_type": "code",
   "execution_count": 2,
   "metadata": {
    "collapsed": true
   },
   "outputs": [],
   "source": [
    "def oracle1(x):\n",
    "    f = 2*((x[0]+x[1]-2)**2)+(x[0]-x[1])**2\n",
    "    df = []\n",
    "    df.append(6*x[0]+2*x[1]-8)\n",
    "    df.append(6*x[1]+2*x[0]-8)\n",
    "    Hf = []\n",
    "    Hf.append([])\n",
    "    Hf[0].append(6)\n",
    "    Hf[0].append(2)\n",
    "    Hf.append([])\n",
    "    Hf[1].append(2)\n",
    "    Hf[1].append(6)\n",
    "    \n",
    "    return f,df,Hf\n",
    "\n",
    "def oracle2(x):\n",
    "    f = 100*((x[1]-x[0]**2)**2)+(1-x[0])**2\n",
    "    df = []\n",
    "    df.append(400*((x[0]**3)-x[1]*x[0])+2*(x[0]-1))\n",
    "    df.append(200*(x[1]-x[0]**2))\n",
    "    Hf = []\n",
    "    Hf.append([])\n",
    "    Hf[0].append(1200*(x[0]**2)-400*x[1]+2)\n",
    "    Hf[0].append(-400*x[0])\n",
    "    Hf.append([])\n",
    "    Hf[1].append(-400*x[0])\n",
    "    Hf[1].append(200)\n",
    "    \n",
    "    return f,df,Hf"
   ]
  },
  {
   "cell_type": "markdown",
   "metadata": {},
   "source": [
    "On rappelle qu'un algorithme de descente appliqué à la minimisation de $f$ possède la forme suivante:\n",
    "\n",
    "* **Données :** $x_0\\in \\mathbb{R}^n$ point initial arbitraire, un oracle.\n",
    "* **Initialisation :** Numéro d'itération: $k=0$.\n",
    "* **Tant que** le critère d'arrêt n'est pas satisfait, **faire**\n",
    "  * Calcul de la direction de descente $d_k$.\n",
    "  * Choix/Calcul du pas $s_k$.\n",
    "  * Mise à jour: calcul du prochain itéré $x_{k+1}$.\n",
    "  * $k = k + 1.$\n",
    "\n",
    "> **A faire :** Résolution mathématique:\n",
    "\n",
    "1. Donner les points critiques des fonctions proposées.\n",
    "2. Les fonctions $f_i$ admettent-elles des extrema sur $\\mathbb{R}^2$?"
   ]
  },
  {
   "cell_type": "markdown",
   "metadata": {},
   "source": [
    ">**Réponse :** *Les points critiques $x^*_i\\in\\mathbb{R}^2$, $i\\in\\{1,2\\},$ des fonctions $f_i$ vérifie\n",
    "$$\\nabla f_1(x^\\star_1) = 0 \\quad \\Leftrightarrow \\quad x^\\star_1 = \\begin{pmatrix} 1\\\\1 \\end{pmatrix},$$\n",
    "et\n",
    "$$\\nabla f_2(x^\\star_2) = 0 \\quad \\Leftrightarrow \\quad x^\\star_2 = \\begin{pmatrix} 1\\\\1 \\end{pmatrix}.$$\n",
    "On remarque que\n",
    "$$\\det(H[f_1](x^\\star_1)) = \\det\\begin{pmatrix}6&2\\\\2&6\\end{pmatrix}=32>0 \\quad\\mbox{ et }\\quad \\textrm{Tr}(H[f_1](x^\\star_1)) = 12>0,$$\n",
    "donc $x^\\star_1$ est un minimum local de la fonction $f_1$.\n",
    "De même, sachant que\n",
    "$$\\det(H[f_2](x^\\star_2)) = \\begin{pmatrix}802 & -400\\\\-400&200\\end{pmatrix} = 400\\quad\\mbox{ et }\\quad \\textrm{Tr}(H[f_2](x^\\star_2)) >0,$$\n",
    "on déduit que $x^\\star_2$ est un minimum local.\n",
    "Les minimums sont même globaux car les fonctions $f_i$ sont $\\ge 0$ et sont nulles en $x_i^\\star$*"
   ]
  },
  {
   "cell_type": "markdown",
   "metadata": {},
   "source": [
    "> **A faire :** Implémenter deux algorithmes de mimimisation, un par méthode de gradient à pas fixe et l'autre par une méthode de Newton locale. Les arguments d'entrée sont $\\textrm{function}$ qui est l'oracle à minimiser, $\\textrm{xini}$ qui est le point initial et $\\textrm{h}$ qui est le pas de la méthode de gradient. Les arguments de sortie sont $\\textrm{x}$ la valeur finale du point trouvée, $\\textrm{xiter}$ qui est la valeur du point au cours des itérations et $\\textrm{iter}$ le nombre d'itérations pour arriver à convergence."
   ]
  },
  {
   "cell_type": "code",
   "execution_count": 3,
   "metadata": {},
   "outputs": [
    {
     "name": "stdout",
     "output_type": "stream",
     "text": [
      "[ 0.99991228  0.99991228]\n",
      "1163\n",
      "[ 0.99888317  0.99776311]\n",
      "14018\n",
      "[ 0.99999991  0.99999991]\n",
      "2023\n",
      "[ 0.99999888  0.99999776]\n",
      "31305\n"
     ]
    }
   ],
   "source": [
    "def Gradient(function,h=1e-3,xini=np.array([0,0])):\n",
    "    maxiter = 100000\n",
    "    k = 0\n",
    "    eps = 10e-4\n",
    "    X = []\n",
    "    x = xini\n",
    "    \n",
    "    while npl.norm(function(x)[1])>eps and k < maxiter:\n",
    "        x = x-np.dot(h,function(x)[1])\n",
    "        k += 1\n",
    "    \n",
    "    return x, X, k\n",
    "\n",
    "x, xiter, iter = Gradient(oracle1)\n",
    "\n",
    "print(x)\n",
    "#print(xiter)\n",
    "print(iter)\n",
    "\n",
    "x, xiter, iter = Gradient(oracle2)\n",
    "\n",
    "print(x)\n",
    "#print(xiter)\n",
    "print(iter)\n",
    "\n",
    "#Old\n",
    "\n",
    "def Gradient(function,h=1e-3,xini=np.array([0,0])):\n",
    "    iter = 0\n",
    "    itermax = 100000\n",
    "    xiter = []\n",
    "    xiter.append(xini)\n",
    "    dk = function(xiter[0])[1]\n",
    "    hdk = [i*(-h) for i in dk] # -h*dk\n",
    "    xiter.append(xiter[0] + hdk)\n",
    "    eps = 1e-6\n",
    "    \n",
    "    #print(xiter)\n",
    "    \n",
    "    #while (npl.norm(function(xiter[iter])[1])>eps \n",
    "    #       and (npl.norm(xiter[iter+1]-xiter[iter])>eps*npl.norm(xiter[iter]) \n",
    "    #           or abs(function(xiter[iter+1])[0]-function(xiter[iter])[0])>eps*abs(function(xiter[iter])[0])) \n",
    "    #       and iter < itermax):\n",
    "    while not ( (npl.norm(function(xiter[iter])[1])<eps \n",
    "           or (npl.norm(xiter[iter+1]-xiter[iter])<eps*npl.norm(xiter[iter]) \n",
    "               and abs(function(xiter[iter+1])[0]-function(xiter[iter])[0])<eps*abs(function(xiter[iter])[0])) \n",
    "           or iter >= itermax) ):\n",
    "        dk = function(xiter[iter+1])[1]\n",
    "        hdk = [i*(-h) for i in dk] # -h*dk\n",
    "        xiter.append(xiter[iter+1] + hdk)\n",
    "        iter = iter + 1\n",
    "\n",
    "    x = xiter[iter]\n",
    "    return x,xiter,iter\n",
    "\n",
    "x, xiter, iter = Gradient(oracle1)\n",
    "\n",
    "print(x)\n",
    "#print(xiter)\n",
    "print(iter)\n",
    "\n",
    "x, xiter, iter = Gradient(oracle2)\n",
    "\n",
    "print(x)\n",
    "#print(xiter)\n",
    "print(iter)"
   ]
  },
  {
   "cell_type": "code",
   "execution_count": 4,
   "metadata": {},
   "outputs": [
    {
     "name": "stdout",
     "output_type": "stream",
     "text": [
      "[ 1.  1.]\n",
      "2\n",
      "[ 1.  1.]\n",
      "4\n"
     ]
    }
   ],
   "source": [
    "def Newton(function,xini=[-100,100]):\n",
    "    iter=0\n",
    "    itermax = 10000\n",
    "    xiter = []\n",
    "    xiter.append(xini)\n",
    "    eps = 1e-3\n",
    "    f, df, Hf = function(xiter[0])\n",
    "    \n",
    "    while (npl.norm(df)>eps and iter < itermax):\n",
    "        f, df, Hf = function(xiter[iter])\n",
    "        Hinv = npl.inv(Hf)\n",
    "        dk = np.dot(Hinv, df)\n",
    "        #dk = npl.solve(Hf, df)\n",
    "        xiter.append(xiter[iter] - dk)\n",
    "        iter = iter + 1\n",
    "    x = xiter[iter]\n",
    "    \n",
    "    return x,xiter,iter\n",
    "\n",
    "x, xiter, iter = Newton(oracle1)\n",
    "\n",
    "print(x)\n",
    "#print(xiter)\n",
    "print(iter)\n",
    "\n",
    "x, xiter, iter = Newton(oracle2)\n",
    "\n",
    "print(x)\n",
    "#print(xiter)\n",
    "print(iter)"
   ]
  },
  {
   "cell_type": "markdown",
   "metadata": {},
   "source": [
    "> **A faire :** En utilisant le module $\\textrm{matplotlib.pyplot}$, on veut représenter/dessiner la suite des itérés dans $\\mathbb{R}^2$ avec la fonction $\\textrm{scatter}$.On souhaite aussi représenter les fonctions $f_1$ et $f_2$ en utilisant la fonction $\\textrm{contour}$ du module $\\textrm{matplotlib.pyplot}$. On s'inspirera du code qui suit pour créer deux fonctions (une pour chaque oracle) $\\textrm{affichage1(xiter)}$ et $\\textrm{affichage2(xiter)}$ qui affiche représente les itérations."
   ]
  },
  {
   "cell_type": "code",
   "execution_count": 5,
   "metadata": {},
   "outputs": [
    {
     "data": {
      "image/png": "[encoded data removed]",
      "text/plain": [
       "<matplotlib.figure.Figure at 0x18e5b738470>"
      ]
     },
     "metadata": {},
     "output_type": "display_data"
    },
    {
     "data": {
      "image/png": "[encoded data removed]",
      "text/plain": [
       "<matplotlib.figure.Figure at 0x18e5ba3feb8>"
      ]
     },
     "metadata": {},
     "output_type": "display_data"
    },
    {
     "data": {
      "image/png": "[encoded data removed]",
      "text/plain": [
       "<matplotlib.figure.Figure at 0x18e5bad1ef0>"
      ]
     },
     "metadata": {},
     "output_type": "display_data"
    }
   ],
   "source": [
    "Nx = 1000\n",
    "Ny = 1000\n",
    "x = np.linspace(-2,2,Nx)\n",
    "y = np.linspace(-2,2,Ny)\n",
    "X, Y = np.meshgrid(x, y)\n",
    "Z = 2*(X+Y-2)**2+(X-Y)**2\n",
    "CS=plt.contour(X, Y, Z,[0,0.1,1,2,4,6,8,12,16,20,24],colors='k')\n",
    "plt.clabel(CS, inline=1, fontsize=10)\n",
    "z = [[1,1.5],[0,0.5]]\n",
    "plt.scatter(z[0],z[1],marker='o')\n",
    "plt.show()\n",
    "\n",
    "x1, xiter1, iter1 = Newton(oracle1)\n",
    "def affichage1(xiter) :\n",
    "    Nx = 1000\n",
    "    Ny = 1000\n",
    "    x = np.linspace(-2,2,Nx)\n",
    "    y = np.linspace(-2,2,Ny)\n",
    "    X, Y = np.meshgrid(x, y)\n",
    "    for x in xiter:\n",
    "        plt.scatter(x[0],x[1])\n",
    "    CS=plt.contour(X,Y, oracle1([X,Y])[0], [0, 0.1, 0.5, 1, 2, 3, 4, 5, 10])\n",
    "    plt.clabel(CS, inline=1, fontsize=10)\n",
    "    \n",
    "x2, xiter2, iter2 = Newton(oracle2)\n",
    "def affichage2(xiter) :\n",
    "    Nx = 1000\n",
    "    Ny = 1000\n",
    "    x = np.linspace(-0.5,0.5,Nx)\n",
    "    y = np.linspace(-0.5,0.5,Ny)\n",
    "    X, Y = np.meshgrid(x, y)\n",
    "    for x in xiter:\n",
    "        plt.scatter(x[0],x[1])\n",
    "    CS = plt.contour(X,Y, oracle2([X,Y])[0], [0, 0.5, 1, 2])\n",
    "    plt.clabel(CS, inline=1, fontsize=10)\n",
    "\n",
    "\n",
    "affichage1(xiter1)\n",
    "plt.show()\n",
    "affichage2(xiter2)\n",
    "plt.show()"
   ]
  },
  {
   "cell_type": "markdown",
   "metadata": {},
   "source": [
    "Tester la méthode de Newton et la méthode de gradient pour différents points de départ et différents pas pour la fonction oracle1. Conclure"
   ]
  },
  {
   "cell_type": "code",
   "execution_count": null,
   "metadata": {
    "collapsed": true
   },
   "outputs": [],
   "source": [
    "\n",
    "\n"
   ]
  },
  {
   "cell_type": "code",
   "execution_count": null,
   "metadata": {
    "collapsed": true
   },
   "outputs": [],
   "source": [
    "\n"
   ]
  },
  {
   "cell_type": "code",
   "execution_count": null,
   "metadata": {
    "collapsed": true
   },
   "outputs": [],
   "source": []
  }
 ],
 "metadata": {
  "kernelspec": {
   "display_name": "Python 3",
   "language": "python",
   "name": "python3"
  },
  "language_info": {
   "codemirror_mode": {
    "name": "ipython",
    "version": 3
   },
   "file_extension": ".py",
   "mimetype": "text/x-python",
   "name": "python",
   "nbconvert_exporter": "python",
   "pygments_lexer": "ipython3",
   "version": "3.6.3"
  }
 },
 "nbformat": 4,
 "nbformat_minor": 1
}
