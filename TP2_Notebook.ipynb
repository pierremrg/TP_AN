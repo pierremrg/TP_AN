{
 "cells": [
  {
   "cell_type": "markdown",
   "metadata": {},
   "source": [
    "# Résolution d'équations non linéaires"
   ]
  },
  {
   "cell_type": "markdown",
   "metadata": {},
   "source": [
    "Importation des packages de calcul scientifique pour Python "
   ]
  },
  {
   "cell_type": "code",
   "execution_count": 2,
   "metadata": {
    "collapsed": true
   },
   "outputs": [],
   "source": [
    "import numpy as np\n",
    "import matplotlib.pyplot as plt\n",
    "% matplotlib inline"
   ]
  },
  {
   "cell_type": "markdown",
   "metadata": {},
   "source": [
    "Dans ce TP, on va mettre en oeuvre les méthodes vues en cours pour la résolution d'équations non linéaires du type\n",
    "\n",
    "$$\n",
    "F(x) = 0,\n",
    "$$\n",
    "\n",
    "où $F$ est une fonction de $\\mathbb{R}$ dans $\\mathbb{R}$. Ces méthodes sont au nombre de 3: la méthode de dichotomie, la méthode du point fixe et la méthode de Newton. Nous allons nous intéresser au cas où la fonction $F$ est donnée par\n",
    "\n",
    "$$\n",
    "F(x) = 10^{-1}x^2 - \\cos(x/2)-e^{-x/4}.\n",
    "$$"
   ]
  },
  {
   "cell_type": "markdown",
   "metadata": {},
   "source": [
    "## Graphe de $F$ et localisation grossière des racines"
   ]
  },
  {
   "cell_type": "markdown",
   "metadata": {},
   "source": [
    "Afin de se faire une idée de la fonction (et de ses racines), on se propose tout d'abord de tracer le graphe de $F$. Pour cela, on commence par implémenter la fonction $F$ qui prendra en entrée un vecteur $x$ et donnera en sortie un vecteur $y$ de même taille que $x$ et tel que, pour tout indice $k$,\n",
    "\n",
    "$$\n",
    "y_k = F(x_k).\n",
    "$$\n",
    "\n",
    "Ensuite, on trace le graphe de $F$ à l'aide de la fonction `plt.plot` sur l'intervalle $[-10,10]$ avec un millier de points.\n",
    "\n",
    "> **À faire **: Implémenter la fonction $F$ et tracer son graphe. Donner un intervalle de longueur $1$ autour de chaque racine $F$ dans l'intervalle $[-10,10]$."
   ]
  },
  {
   "cell_type": "code",
   "execution_count": 39,
   "metadata": {},
   "outputs": [
    {
     "data": {
      "text/plain": [
       "[<matplotlib.lines.Line2D at 0x7ff68a996668>]"
      ]
     },
     "execution_count": 39,
     "metadata": {},
     "output_type": "execute_result"
    },
    {
     "data": {
      "image/png": "[encoded data removed]",
      "text/plain": [
       "<matplotlib.figure.Figure at 0x7ff68a996080>"
      ]
     },
     "metadata": {},
     "output_type": "display_data"
    }
   ],
   "source": [
    "def F(x):\n",
    "    return pow(x,2)/10.0-np.cos(x/2.0)-np.exp(-x/4.0)\n",
    "\n",
    "vals = []\n",
    "absi =[]\n",
    "zero= []\n",
    "\n",
    "for i in range(-10000,10000,2):\n",
    "    absi.append(i/1000.0)\n",
    "    vals.append(F(i/1000.0))\n",
    "    zero.append(0)\n",
    "    \n",
    "plt.plot(absi, vals)\n",
    "plt.plot(absi, zero)\n",
    "    \n"
   ]
  },
  {
   "cell_type": "markdown",
   "metadata": {},
   "source": [
    "> **Réponse **: Une entre -8 et -7, une entre -6 et -5 et entre 2 et 3"
   ]
  },
  {
   "cell_type": "markdown",
   "metadata": {},
   "source": [
    "## Méthode de dichotomie"
   ]
  },
  {
   "cell_type": "markdown",
   "metadata": {},
   "source": [
    "On passe maintenant au calcul de racines par la méthode de dichotomie. Pour cela, on va implémenter une fonction `Dichotomie` qui aura comme arguments d'entrée:\n",
    "\n",
    "- une fonction `F` dont on cherche une racine,\n",
    "- un scalaire `a` et un scalaire `b` pour définir l'intervalle initial,\n",
    "- un scalaire `eps` pour le critère d'arrêt (qui aura, par défaut, la valeur $10^{-10}$),\n",
    "- un entier `itermax` pour le nombre maximal d'itérations (qui aura, par défaut, la valeur $100$),\n",
    "\n",
    "et comme arguments de sortie:\n",
    "\n",
    "- un vecteur `X` qui contient la suite $(x_k)_{0\\leq j\\leq k}$ construite par la méthode et dont le dernier élément est l'approximation d'une racine de `F`,\n",
    "- un entier `k` correspondant au nombre total d'itérations réalisées.\n",
    "\n",
    "> **À faire **: Implémenter la méthode de la dichotomie. Tester celle-ci sur la fonction $F$ avec comme intervalle initial $[-10,10]$ puis calculer la plus grande racine de $F$ sur l'intervalle $[-10,10]$ à une précision de $10^{-12}$."
   ]
  },
  {
   "cell_type": "code",
   "execution_count": 43,
   "metadata": {},
   "outputs": [
    {
     "name": "stdout",
     "output_type": "stream",
     "text": [
      "[0.0, 5.0, 2.5, 3.75, 3.125, 2.8125, 2.65625, 2.734375, 2.6953125, 2.71484375, 2.705078125, 2.7001953125, 2.69775390625, 2.698974609375, 2.6995849609375, 2.69927978515625, 2.699127197265625, 2.6992034912109375, 2.6992416381835938, 2.699260711669922, 2.699270248413086, 2.699275016784668, 2.699277400970459, 2.6992762088775635, 2.6992756128311157, 2.699275314807892, 2.699275463819504, 2.699275389313698, 2.699275426566601, 2.6992754451930523, 2.699275454506278, 2.699275459162891, 2.6992754614911973, 2.6992754626553506, 2.699275462073274, 2.6992754617822357, 2.699275461927755]\n",
      "37\n",
      "9.83941816912e-11\n"
     ]
    }
   ],
   "source": [
    "def Dichotomie(F, a, b, eps = 1e-10, itermax = 100):\n",
    "    fa= F(a)\n",
    "    fb= F(b)\n",
    "    k = 0\n",
    "    X = []\n",
    "    while (k<itermax and abs(b-a)>2*eps):\n",
    "        c = (a+b)/2.0\n",
    "        fc = F(c)\n",
    "        if(fa*fc)<0:\n",
    "            b = c\n",
    "            fb= fc\n",
    "            X.append(b)\n",
    "        else:\n",
    "            a=c\n",
    "            fa=fc\n",
    "            X.append(a)        \n",
    "        k+=1\n",
    "        \n",
    "    return X,k\n",
    "\n",
    "(X,k) = Dichotomie(F, -10, 10);\n",
    "print(X)\n",
    "print(k)\n",
    "print(F(X[k-1]))"
   ]
  },
  {
   "cell_type": "markdown",
   "metadata": {},
   "source": [
    "## Méthode du point fixe"
   ]
  },
  {
   "cell_type": "markdown",
   "metadata": {},
   "source": [
    "À présent, on va implémenter la méthode du point fixe. On implémentera pour cela une fonction `Point_fixe` qui aura comme arguments d'entrée:\n",
    "- une fonction `F` dont on cherche une racine,\n",
    "- un scalaire `x_0` correspondant à la valeur initial de la méthode,\n",
    "- un scalaire `M` qui vérifie: $0<F'<M$ lorsque $F$ est croissante (et $M<F'<0$ lorsque $F$ est décroissante) près de la racine recherchée, \n",
    "- un scalaire `eps` pour le critère d'arrêt (qui aura, par défaut, la valeur $10^{-10}$),\n",
    "- un entier `itermax` pour le nombre maximal d'itérations (qui aura, par défaut, la valeur $100$),\n",
    "\n",
    "et comme arguments de sortie:\n",
    "\n",
    "- un vecteur `X` qui contient la suite $(x_k)_{0\\leq j\\leq k}$ construite par la méthode et dont le dernier élément est l'approximation d'une racine de `F`,\n",
    "- un entier `k` correspondant au nombre total d'itérations réalisées.\n",
    "\n",
    "> **À faire **: Implémenter la méthode du point fixe."
   ]
  },
  {
   "cell_type": "code",
   "execution_count": 98,
   "metadata": {
    "collapsed": true
   },
   "outputs": [],
   "source": [
    "def Point_fixe(F, M, x_0, eps = 1e-10, itermax = 100):\n",
    "    x1 = x_0\n",
    "    x2 = x_0\n",
    "    crit = 2*eps\n",
    "    X = []\n",
    "    k = 0\n",
    "    while(crit>eps) and (k<itermax):\n",
    "        x1 = x2\n",
    "        if(M>0):\n",
    "            x2 = x2 - (F(x2)/(M))\n",
    "        else :\n",
    "            x2 = x2 + (F(x2)/(-M))\n",
    "        X.append(x2)\n",
    "        k += 1\n",
    "        if x1 != 0:\n",
    "            crit = abs(x2-x1)/abs(x1)\n",
    "    return X,k"
   ]
  },
  {
   "cell_type": "markdown",
   "metadata": {},
   "source": [
    "> **À faire **: Calculer la dérivée de la fonction $F$ et implémenter sous une fonction `Fp`. Ensuite, tester la méthode du point fixe sur la fonction $F$ avec comme valeur initiale $0$. Pour évaluer le paramètre `M`, on calculera (de manière approximative) au préalable la valeur maximale de `Fp` sur l'intervalle $[0,5]$."
   ]
  },
  {
   "cell_type": "code",
   "execution_count": 99,
   "metadata": {},
   "outputs": [
    {
     "name": "stdout",
     "output_type": "stream",
     "text": [
      "1.37309281875\n",
      "[1.456565770855514, 2.3515911529094691, 2.6336584719145373, 2.6884992382890491, 2.6975543068073873, 2.6990018310300004, 2.6992319919403349, 2.6992685568816515, 2.6992743650470463, 2.6992752876262505, 2.6992754341698495, 2.6992754574469995, 2.6992754611443677, 2.6992754617316619, 2.6992754618249482]\n",
      "15\n",
      "-2.03463912385e-11\n"
     ]
    }
   ],
   "source": [
    "def Fp(x):\n",
    "    return 1/5.0*x+1/2.0*np.sin(x/2.0)+1/4.0*np.exp(-x/4.0)\n",
    "\n",
    "M = F(0);\n",
    "for i in range(0,5000):\n",
    "    if Fp(i/1000.0)>M:\n",
    "        M = Fp(i/1000.0)\n",
    "        \n",
    "print(M)\n",
    "\n",
    "(X, k) = Point_fixe(F, M, 0.0)\n",
    "print(X)\n",
    "print(k)\n",
    "print(F(X[k-1]))"
   ]
  },
  {
   "cell_type": "markdown",
   "metadata": {},
   "source": [
    "## Méthode de Newton"
   ]
  },
  {
   "cell_type": "markdown",
   "metadata": {},
   "source": [
    "On passe enfin à la méthode de Newton. On implémentera pour cela une fonction `Newton` qui aura comme arguments d'entrée:\n",
    "- une fonction `F` dont on cherche une racine,\n",
    "- une fonction `Fp` qui correspond à la dérivée de `F`,\n",
    "- un scalaire `x_0` correspondant à la valeur initial de la méthode,\n",
    "- un scalaire `eps` pour le critère d'arrêt (qui aura, par défaut, la valeur $10^{-10}$),\n",
    "- un entier `itermax` pour le nombre maximal d'itérations (qui aura, par défaut, la valeur $100$),\n",
    "\n",
    "et comme arguments de sortie:\n",
    "\n",
    "- un vecteur `X` qui contient la suite $(x_k)_{0\\leq j\\leq k}$ construite par la méthode et dont le dernier élément est l'approximation d'une racine de `F`,\n",
    "- un entier `k` correspondant au nombre total d'itérations réalisées.\n",
    "\n",
    "> **À faire **: Implémenter la méthode de Newton. Tester cette dernière avec comme condition initiale $x_0 = -3$."
   ]
  },
  {
   "cell_type": "code",
   "execution_count": 100,
   "metadata": {
    "scrolled": true
   },
   "outputs": [
    {
     "name": "stdout",
     "output_type": "stream",
     "text": [
      "[8.0, 2.4893031409566584, 2.7040360388114535, 2.6992776442489648, 2.6992754618430239, 2.6992754618425643]\n",
      "6\n",
      "1.11022302463e-16\n"
     ]
    }
   ],
   "source": [
    "def Newton(F, Fp, x_0, eps = 1e-10, itermax = 100):\n",
    "    k = 0\n",
    "    X = []\n",
    "    x1 = x_0\n",
    "    x2 = 0\n",
    "    while(k < itermax and abs(x1-x2) > eps*abs(x1)):\n",
    "        x1 = x2\n",
    "        x2 = x2 - F(x2)/Fp(x2)\n",
    "        X.append(x2)\n",
    "        k+=1\n",
    "    \n",
    "    return X,k\n",
    "\n",
    "(X,k) = Newton(F, Fp, -3.0)\n",
    "print(X)\n",
    "print(k)\n",
    "print(F(X[k-1]))"
   ]
  },
  {
   "cell_type": "markdown",
   "metadata": {},
   "source": [
    "## Comparaison des méthodes"
   ]
  },
  {
   "cell_type": "markdown",
   "metadata": {},
   "source": [
    "Dans cette dernière section, on va comparer les méthodes et notamment la vitesse de convergence de celle-ci. Tout d'abord, on va calculer chacune des racines de $F$ avec une précision de $10^{-15}$ à l'aide de la méthode de votre choix. On note $x^*_i$ la $i$-ème racine de $F$ obtenue de cette manière. Ensuite, on va tracer l'évolution, pour chaque méthode et pour chaque racine de $F$, de l'erreur:\n",
    "\n",
    "$$\n",
    "e_n^{(k)} = \\log_{10} (|x_n-x_k^*|),\n",
    "$$\n",
    "pour $n$ allant de $0$ jusqu'au nombre total d'itérations de chaque méthode. \n",
    "\n",
    "\n",
    "> **À faire **: Tracer, pour chaque racine, l'évolution de $e_n^{(k)}$ pour chaque méthode sur un même graphique. Les conditions initiales seront $x_0 = -7, -5$ et $2$. Pour la méthode de la dichotomie, on commencera avec un intervalle de taille $1$ tel que $a$ ou $b$ est égal à $x_0$. L'évaluation du paramètre $M$ pour la méthode du point fixe se fera sur le même intervalle que l'intervalle de départ de la dichotomie. Le paramètre `eps` sera fixé à $10^{-12}$. Commenter le résultat."
   ]
  },
  {
   "cell_type": "code",
   "execution_count": 107,
   "metadata": {},
   "outputs": [
    {
     "data": {
      "text/plain": [
       "[<matplotlib.lines.Line2D at 0x7ff68992da58>]"
      ]
     },
     "execution_count": 107,
     "metadata": {},
     "output_type": "execute_result"
    },
    {
     "data": {
      "image/png": "[encoded data removed]",
      "text/plain": [
       "<matplotlib.figure.Figure at 0x7ff689aec278>"
      ]
     },
     "metadata": {},
     "output_type": "display_data"
    }
   ],
   "source": [
    "x0 = -7\n",
    "eps=1e-12\n",
    "(racines, k) = Newton(F, Fp, x0, eps)\n",
    "r = racines[k-1]\n",
    "eN = []\n",
    "for i in range(0, k-1):\n",
    "    eN.append(np.log(abs(r-racines[i])))\n",
    "\n",
    "M = F(0);\n",
    "n = 0;\n",
    "for i in range(-8000,-7000):\n",
    "    M = M+Fp(i/1000.0)\n",
    "    n+=1.0\n",
    " #   if Fp(i/1000.0)>M:\n",
    "  #      M = Fp(i/1000.0)\n",
    "M=M/n    \n",
    "\n",
    "(racines, k) = Point_fixe(F, M, x0, eps)\n",
    "r = racines[k-1]\n",
    "eP = []\n",
    "for i in range(0, k-1):\n",
    "    eP.append(np.log(abs(r-racines[i]))) \n",
    "    \n",
    "(racines, k) = Dichotomie(F, -8, -7, eps)\n",
    "r = racines[k-1]\n",
    "eD = []\n",
    "for i in range(0, k-1):\n",
    "    eD.append(np.log(abs(r-racines[i])))\n",
    "\n",
    "plt.plot(eN, color=\"blue\")\n",
    "plt.plot(eP, color=\"red\")\n",
    "plt.plot(eD, color=\"orange\")"
   ]
  },
  {
   "cell_type": "code",
   "execution_count": 102,
   "metadata": {},
   "outputs": [
    {
     "data": {
      "text/plain": [
       "[<matplotlib.lines.Line2D at 0x7ff689bf89b0>]"
      ]
     },
     "execution_count": 102,
     "metadata": {},
     "output_type": "execute_result"
    },
    {
     "data": {
      "image/png": "[encoded data removed]",
      "text/plain": [
       "<matplotlib.figure.Figure at 0x7ff689c14128>"
      ]
     },
     "metadata": {},
     "output_type": "display_data"
    }
   ],
   "source": [
    "x0 = -5\n",
    "eps=1e-12\n",
    "(racines, k) = Newton(F, Fp, x0, eps)\n",
    "r = racines[k-1]\n",
    "eN = []\n",
    "for i in range(0, k-1):\n",
    "    eN.append(np.log(abs(r-racines[i])))\n",
    "\n",
    "M = F(0);\n",
    "n = 0;\n",
    "for i in range(-6000,-5000):\n",
    "    M = M+Fp(i/1000.0)\n",
    "    n+=1.0\n",
    " #   if Fp(i/1000.0)>M:\n",
    "  #      M = Fp(i/1000.0)\n",
    "M=M/n  \n",
    "        \n",
    "(racines, k) = Point_fixe(F, M, x0, eps)\n",
    "r = racines[k-1]\n",
    "eP = []\n",
    "for i in range(0, k-1):\n",
    "    eP.append(np.log(abs(r-racines[i]))) \n",
    "    \n",
    "(racines, k) = Dichotomie(F, -6, -5, eps)\n",
    "r = racines[k-1]\n",
    "eD = []\n",
    "for i in range(0, k-1):\n",
    "    eD.append(np.log(abs(r-racines[i])))\n",
    "\n",
    "plt.plot(eN, color=\"blue\")\n",
    "plt.plot(eP, color=\"red\")\n",
    "plt.plot(eD, color=\"orange\")"
   ]
  },
  {
   "cell_type": "code",
   "execution_count": 103,
   "metadata": {},
   "outputs": [
    {
     "data": {
      "text/plain": [
       "[<matplotlib.lines.Line2D at 0x7ff689b1d908>]"
      ]
     },
     "execution_count": 103,
     "metadata": {},
     "output_type": "execute_result"
    },
    {
     "data": {
      "image/png": "[encoded data removed]",
      "text/plain": [
       "<matplotlib.figure.Figure at 0x7ff689cd6e48>"
      ]
     },
     "metadata": {},
     "output_type": "display_data"
    }
   ],
   "source": [
    "x0 = 2\n",
    "eps=1e-12\n",
    "(racines, k) = Newton(F, Fp, x0, eps)\n",
    "r = racines[k-1]\n",
    "eN = []\n",
    "for i in range(0, k-1):\n",
    "    eN.append(np.log(abs(r-racines[i])))\n",
    "\n",
    "M = F(0);\n",
    "n = 0;\n",
    "for i in range(2500,3000):\n",
    "    #M = M+Fp(i/1000.0)\n",
    "    #n+=1.0\n",
    "    if Fp(i/1000.0)>M:\n",
    "        M = Fp(i/1000.0)\n",
    "#M=M/n  \n",
    "        \n",
    "(racines, k) = Point_fixe(F, M, x0, eps)\n",
    "r = racines[k-1]\n",
    "eP = []\n",
    "for i in range(0, k-1):\n",
    "    eP.append(np.log(abs(r-racines[i]))) \n",
    "    \n",
    "(racines, k) = Dichotomie(F, 2, 3, eps)\n",
    "r = racines[k-1]\n",
    "eD = []\n",
    "for i in range(0, k-1):\n",
    "    eD.append(np.log(abs(r-racines[i])))\n",
    "\n",
    "plt.plot(eN, color=\"blue\")\n",
    "plt.plot(eP, color=\"red\")\n",
    "plt.plot(eD, color=\"orange\")"
   ]
  },
  {
   "cell_type": "code",
   "execution_count": null,
   "metadata": {
    "collapsed": true
   },
   "outputs": [],
   "source": []
  },
  {
   "cell_type": "code",
   "execution_count": null,
   "metadata": {
    "collapsed": true
   },
   "outputs": [],
   "source": []
  },
  {
   "cell_type": "code",
   "execution_count": null,
   "metadata": {
    "collapsed": true
   },
   "outputs": [],
   "source": []
  }
 ],
 "metadata": {
  "kernelspec": {
   "display_name": "Python [default]",
   "language": "python",
   "name": "python3"
  },
  "language_info": {
   "codemirror_mode": {
    "name": "ipython",
    "version": 3
   },
   "file_extension": ".py",
   "mimetype": "text/x-python",
   "name": "python",
   "nbconvert_exporter": "python",
   "pygments_lexer": "ipython3",
   "version": "3.6.1"
  }
 },
 "nbformat": 4,
 "nbformat_minor": 1
}
