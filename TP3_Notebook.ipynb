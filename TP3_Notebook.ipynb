{
 "cells": [
  {
   "cell_type": "markdown",
   "metadata": {},
   "source": [
    "# Interpolation polynomiale - Étude du phénomène de Runge"
   ]
  },
  {
   "cell_type": "markdown",
   "metadata": {},
   "source": [
    "### Importation de packages pour Python"
   ]
  },
  {
   "cell_type": "code",
   "execution_count": 2,
   "metadata": {
    "collapsed": true
   },
   "outputs": [],
   "source": [
    "%matplotlib inline\n",
    "import matplotlib.pyplot as plt\n",
    "import numpy as np\n",
    "import numpy.linalg as npl"
   ]
  },
  {
   "cell_type": "markdown",
   "metadata": {},
   "source": [
    "## Retour sur le phénomène de Runge\n",
    "\n",
    "On a vu dans le cours le phénomène de Runge qui se traduit par une mauvaise interpolation, lorsque l'on augmente le degré du polynôme d'interpolation de Lagrange, de la fonction $f$ définie sur $\\mathbb{R}$ par\n",
    "$$\n",
    "f(x) = \\dfrac{1}{1+x^2}.\n",
    "$$\n",
    "Le but du TP est d'observer ce phénomène mais aussi de mettre en oeuvre une meilleure répartition des points d'interpolation à l'aide des racines des polynômes de Chebyshev et de constater l'atténuation du phénomène de Runge. Plus particulièrement, vous implémenterez des fonctions permettant de calculer le polynôme d'interpolation de Lagrange par la méthode directe, celle de Lagrange et celle de Newton. On verra l'intérêt d'utiliser la méthode de Newton lorsque l'on désire ajouter un point d'interpolation."
   ]
  },
  {
   "cell_type": "markdown",
   "metadata": {},
   "source": [
    "### Fonction de Runge"
   ]
  },
  {
   "cell_type": "markdown",
   "metadata": {},
   "source": [
    ">**À faire :** Implémenter une fonction **Runge** qui à chaque un vecteur $x$ sous format numpy retourne le vecteur $f(x)$. Puis, tracer de cette fonction sur l'intervalle $[-3,3]$."
   ]
  },
  {
   "cell_type": "code",
   "execution_count": 3,
   "metadata": {},
   "outputs": [
    {
     "data": {
      "text/plain": [
       "[<matplotlib.lines.Line2D at 0x7f55fb60dd30>]"
      ]
     },
     "execution_count": 3,
     "metadata": {},
     "output_type": "execute_result"
    },
    {
     "data": {
      "image/png": "[encoded data removed]",
      "text/plain": [
       "<matplotlib.figure.Figure at 0x7f55fd638748>"
      ]
     },
     "metadata": {},
     "output_type": "display_data"
    }
   ],
   "source": [
    "def Runge(x):\n",
    "    \n",
    "    return 1/(1+x*x)\n",
    "\n",
    "x = []\n",
    "y = []\n",
    "pas = 10e-3\n",
    "for i in range (int(-3/pas),int(4/pas)):\n",
    "    x.append(i*pas)\n",
    "    y.append(Runge(i*pas))\n",
    "    \n",
    "plt.plot(x, y)"
   ]
  },
  {
   "cell_type": "markdown",
   "metadata": {},
   "source": [
    "### Construction de points d'interpolation équirépartis"
   ]
  },
  {
   "cell_type": "markdown",
   "metadata": {},
   "source": [
    "Dans un premier temps, nous allons considérer des points d'interpolation uniformément répartis sur l'intervalle d'interpolation $[a,b]$, $a<b$. L'ensemble des points d'interpolation $(x_j)_{0\\leq j\\leq n}$ va donc être donné, pour un certain $n\\geq 1$, par\n",
    "$$ x_j = a + (b-a)\\frac j n, \\quad 0\\leq j\\leq n.$$\n",
    "\n",
    "\n",
    ">**À faire :** Implémenter une fonction **Interp_Equi** qui prend en arguments d'entrée les valeurs $a$ et $b$ (qui définissent l'intervalle d'interpolation) ainsi que $m$ de manière à retourner un vecteur $x$ de $m$ points d'interpolations équirépartis sur $[a,b]$. "
   ]
  },
  {
   "cell_type": "code",
   "execution_count": 4,
   "metadata": {},
   "outputs": [
    {
     "name": "stdout",
     "output_type": "stream",
     "text": [
      "[-3.0, -2.4, -1.8, -1.2, -0.6000000000000001, 0.0, 0.6000000000000001, 1.2000000000000002, 1.7999999999999998, 2.4000000000000004, 3.0]\n"
     ]
    },
    {
     "data": {
      "image/png": "[encoded data removed]",
      "text/plain": [
       "<matplotlib.figure.Figure at 0x7f55fd6385c0>"
      ]
     },
     "metadata": {},
     "output_type": "display_data"
    }
   ],
   "source": [
    "def Interp_Equi(a,b,m):\n",
    "    x=[]\n",
    "    for j in range (0,m+1):\n",
    "        x.append(a+(b-a)*j/float(m))    \n",
    "    return x\n",
    "x_p = Interp_Equi(-3,3,10)\n",
    "print(x_p)\n",
    "\n",
    "x = []\n",
    "y = []\n",
    "pas = 10e-3\n",
    "for i in range (int(-3/pas),int(3/pas)):\n",
    "    x.append(i*pas)\n",
    "    y.append(Runge(i*pas))\n",
    "    \n",
    "plt.plot(x, y, \"red\")\n",
    "for xi in x_p:\n",
    "    plt.axvline(x=xi)"
   ]
  },
  {
   "cell_type": "markdown",
   "metadata": {},
   "source": [
    "### Méthode directe de construction d'un polynôme d'interpolation"
   ]
  },
  {
   "cell_type": "markdown",
   "metadata": {},
   "source": [
    "On rappelle que la méthode directe de construction consiste à simplement poser le système d'équations suivant\n",
    "$$ p(x_j) = y_j, \\quad 0\\leq j\\leq n,$$\n",
    "sous la forme d'un système linéaire dont la solution correspond au vecteur $(a_j)_{0\\leq j\\leq n}$ de coefficients du polynôme d'interpolation. Plus précisément, le système s'écrit\n",
    "$$ \\left[ \n",
    "\\begin{array}{ccccc}\n",
    "1 & x_0 & \\cdots & x_0^{n-1} & x_0^n \\\\ \n",
    "1  & x_1 & \\cdots & x_1^{n-1}  & x_1^n \\\\ \n",
    "\\vdots & \\vdots &  & & \\vdots \\\\ \n",
    "1 & x_n & \\cdots & x_{n}^{n-1} & x_{n}^n\n",
    "\\end{array}\n",
    "\\right]\\left[\\begin{array}{c}a_0\\\\ a_1\\\\ \\vdots \\\\ a_n \\end{array}\\right] = \\left[\\begin{array}{c}y_0\\\\ y_1\\\\ \\vdots \\\\ y_n \\end{array}\\right].\n",
    " $$\n",
    " \n",
    " >**À faire :** Implémenter une fonction **Vandermonde** qui prend en arguments d'entrée un vecteur $x$ de points d'interpolation et qui rend, en sortie, la matrice de Vandermonde associée au système linéaire précédent. "
   ]
  },
  {
   "cell_type": "code",
   "execution_count": 5,
   "metadata": {},
   "outputs": [
    {
     "name": "stdout",
     "output_type": "stream",
     "text": [
      "[[1, 1, 1, 1], [1, 2, 4, 8], [1, 3, 9, 27], [1, 4, 16, 64]]\n"
     ]
    }
   ],
   "source": [
    "def Vandermonde(x):\n",
    "    M=[]\n",
    "    for j in range (0, np.size(x)):\n",
    "        M.append([])\n",
    "        for i in range (0, np.size(x)):\n",
    "            (M[j]).append(x[j]**i)\n",
    "    return M\n",
    "\n",
    "\n",
    "x = [1,2,3,4]\n",
    "M = Vandermonde(x)\n",
    "print(M)"
   ]
  },
  {
   "cell_type": "markdown",
   "metadata": {},
   "source": [
    " >**À faire :** À l'aide de la fonction **npl.solve**, implémenter une fonction **Methode_directe** qui prend en argument les points d'interpolations $x$ ainsi qu'une fonction $f$ à interpoler et qui rend en sortie un vecteur $a$ qui contient les coefficients du polynôme d'interpolation de $f$ aux points $x$."
   ]
  },
  {
   "cell_type": "code",
   "execution_count": 6,
   "metadata": {
    "collapsed": true
   },
   "outputs": [],
   "source": [
    "def Methode_directe(x,f):\n",
    "    mat = Vandermonde(x)\n",
    "    b = []\n",
    "    for i in range (0, np.size(x)):\n",
    "        b.append(f(x[i]))\n",
    "    a = npl.solve(mat,b)\n",
    "    return a"
   ]
  },
  {
   "cell_type": "markdown",
   "metadata": {},
   "source": [
    " >**À faire :** Grâce aux fonctions **PtsInterp_Equi** et **Methode_directe**, tracer sur une même figure la fonction **Runge** sur l'intervalle $[-3,3]$ ainsi que son polynôme d'interpolation pour $5$, $10$ et $15$ points d'interpolation."
   ]
  },
  {
   "cell_type": "code",
   "execution_count": 7,
   "metadata": {},
   "outputs": [
    {
     "data": {
      "text/plain": [
       "[-3, 3.0, 0.0, 3]"
      ]
     },
     "execution_count": 7,
     "metadata": {},
     "output_type": "execute_result"
    },
    {
     "data": {
      "image/png": "[encoded data removed]",
      "text/plain": [
       "<matplotlib.figure.Figure at 0x7f55fb5ecd68>"
      ]
     },
     "metadata": {},
     "output_type": "display_data"
    }
   ],
   "source": [
    "xi = Interp_Equi(-3,3,13)\n",
    "\n",
    "# Inputs\n",
    "h=0.01\n",
    "xmin= -3.\n",
    "xmax= 3.\n",
    "\n",
    "# Functions\n",
    "x=np.arange(xmin,xmax,h)\n",
    "y= Runge(x)\n",
    "\n",
    "a = Methode_directe(xi, Runge)\n",
    "\n",
    "plt.plot(x, y)\n",
    "\n",
    "y_interp = 0. * x\n",
    "\n",
    "for j in range (0, np.size(a)):\n",
    "        y_interp = y_interp + a[j]*pow(x,j)\n",
    "    \n",
    "plt.plot(x,y_interp)\n",
    "plt.axis([-3,3.,0.,3])"
   ]
  },
  {
   "cell_type": "markdown",
   "metadata": {},
   "source": [
    "### Méthode de Lagrange"
   ]
  },
  {
   "cell_type": "markdown",
   "metadata": {
    "collapsed": true
   },
   "source": [
    "Nous avons vu dans le cours que le polynôme d'interpolation de Lagrange peut être calculé par la méthode de Lagrange. Cette méthode consiste à trouver une base de polynômes, qui sont les polynômes de Lagrange, dans laquelle on exprime le polynôme d'interpolation. Étant donné une fonction $f$ et un ensemble $(x_j)_{0\\leq j\\leq n}$ de points d'interpolation, le polynôme d'interpolation $p$ s'exprime comme\n",
    "$$\n",
    "p(x) = \\sum_{j = 0}^{n} f(x_j) L_{j,n}(x), \\quad \\forall x \\in \\mathbb{R},\n",
    "$$\n",
    "avec $(L_{j,n})_{0\\leq j\\leq n}$ la base de polynôme de Lagrange donnée par\n",
    "$$\n",
    "L_{j,n}(x) = \\prod_{\\substack{k = 0\\\\k\\neq j}}^{n} \\dfrac{x-x_k}{x_j-x_k}.\n",
    "$$\n",
    "\n",
    " >**À faire :** Écrire une fonction **Methode_Lagrange** qui implémente la méthode précédente avec en arguments d'entrée un vecteur $x\\_interp$ de points d'interpolation et un vecteur $x$ de points d'abscisse. Cette fonction returnera la matrice $L$ dont chaque colonne correspond au vecteur $\\ell_i = L_{i,n}(x)$. \n",
    " \n",
    "On obtient alors le vecteur  $y = p(x)$ grâce au produit matrice-vecteur $y = Lz$ où $z = f(x\\_interp)$. Le produit matrice-vecteur peut se faire grâce à la fonction **np.dot**."
   ]
  },
  {
   "cell_type": "code",
   "execution_count": 8,
   "metadata": {},
   "outputs": [
    {
     "name": "stdout",
     "output_type": "stream",
     "text": [
      "[array([ 1.        ,  0.3265555 ,  0.04632309, -0.02819824, -0.01920439,\n",
      "        0.00385518,  0.01171875,  0.0027537 , -0.00960219, -0.00939941,\n",
      "        0.00926462,  0.02968686]), array([ 0.        ,  1.16626965,  1.1580772 ,  0.70495605,  0.24005487,\n",
      "       -0.03706902, -0.09765625, -0.02095205,  0.06858711,  0.06408691,\n",
      "       -0.06095143, -0.18985785]), array([-0.        , -0.85935658, -0.3308792 ,  0.4699707 ,  0.96021948,\n",
      "        0.96379451,  0.5859375 ,  0.08761768, -0.24005487, -0.20141602,\n",
      "        0.17816572,  0.52670242]), array([ 0.        ,  0.52670242,  0.17816572, -0.20141602, -0.24005487,\n",
      "        0.08761768,  0.5859375 ,  0.96379451,  0.96021948,  0.4699707 ,\n",
      "       -0.3308792 , -0.85935658]), array([-0.        , -0.18985785, -0.06095143,  0.06408691,  0.06858711,\n",
      "       -0.02095205, -0.09765625, -0.03706902,  0.24005487,  0.70495605,\n",
      "        1.1580772 ,  1.16626965]), array([ 0.        ,  0.02968686,  0.00926462, -0.00939941, -0.00960219,\n",
      "        0.0027537 ,  0.01171875,  0.00385518, -0.01920439, -0.02819824,\n",
      "        0.04632309,  0.3265555 ])]\n"
     ]
    }
   ],
   "source": [
    "def Methode_Lagrange(x_interp,x):\n",
    "    L = []\n",
    "    for i in range (0,np.size(x_interp)):\n",
    "        l = 1\n",
    "        for k in range (0,np.size(x_interp)):\n",
    "            if (i!=k):\n",
    "                l = l * (x-x_interp[k])/(x_interp[i]-x_interp[k])\n",
    "        L.append(l)\n",
    "    return L\n",
    "\n",
    "xi = Interp_Equi(-3,3,5)\n",
    "h=0.5\n",
    "xmin= -3.\n",
    "xmax= 3.\n",
    "\n",
    "x=np.arange(xmin,xmax,h)\n",
    "L = Methode_Lagrange(xi, x)\n",
    "\n",
    "print(L)"
   ]
  },
  {
   "cell_type": "markdown",
   "metadata": {},
   "source": [
    " >**À faire :** Tracer ensuite sur une même figure la fonction **Runge** sur l'intervalle $[-3,3]$ ainsi que son polynôme d'interpolation obtenue avec la méthode de Lagrange pour $5$, $10$ et $15$ points d'interpolation."
   ]
  },
  {
   "cell_type": "code",
   "execution_count": 9,
   "metadata": {},
   "outputs": [
    {
     "data": {
      "text/plain": [
       "[-3, 3.0, 0.0, 3]"
      ]
     },
     "execution_count": 9,
     "metadata": {},
     "output_type": "execute_result"
    },
    {
     "data": {
      "image/png": "[encoded data removed]",
      "text/plain": [
       "<matplotlib.figure.Figure at 0x7f55fb5e3710>"
      ]
     },
     "metadata": {},
     "output_type": "display_data"
    }
   ],
   "source": [
    "xi = Interp_Equi(-3,3,150)\n",
    "\n",
    "# Inputs\n",
    "h=0.1\n",
    "xmin= -3.\n",
    "xmax= 3.\n",
    "\n",
    "# Functions\n",
    "x=np.arange(xmin,xmax,h)\n",
    "y= Runge(x)\n",
    "\n",
    "L = Methode_Lagrange(xi, x)\n",
    "\n",
    "y_interp = 0. * x\n",
    "for j in range (0, np.size(xi)):\n",
    "    y_interp = y_interp + Runge(xi[j])*L[j]\n",
    "\n",
    "\n",
    "plt.plot(x, y)\n",
    "plt.plot(x,y_interp)\n",
    "plt.axis([-3,3.,0.,3])"
   ]
  },
  {
   "cell_type": "markdown",
   "metadata": {
    "collapsed": true
   },
   "source": [
    "### Méthode de Newton\n",
    "\n",
    "La méthode de Newton, comme pour celle de Lagrange, permet d'exprimer le polynôme d'interpolation de Lagrange dans une base de polynômes, qui sont les polynômes de Newton. Étant donné une fonction $f$ et un ensemble $(x_j)_{0\\leq j\\leq n}$ de points d'interpolation, le polynôme d'interpolation $p$ s'exprime comme\n",
    "$$\n",
    "p(x) = \\sum_{j = 0}^{n} z_j N_{j,n}(x), \\quad \\forall x \\in \\mathbb{R},\n",
    "$$\n",
    "avec $(N_{j,n})_{0\\leq j\\leq n}$ la base de polynôme de Newton donnée par\n",
    "$$\n",
    "N_{j,n}(x) = \\prod_{k = 0}^{j} (x-x_k),\n",
    "$$\n",
    "et $(z_j)_{0\\leq j\\leq n}$ les coefficients qui sont solution du système triangulaire\n",
    "$$\n",
    "\\left[ \n",
    "\\begin{array}{cccccc}\n",
    "1 & 0 & 0  &  \\cdots & 0 \\\\ \n",
    "1  & (x_1-x_0) & 0  & \\cdots   & 0 \\\\ \n",
    "1  & (x_2-x_0) & (x_2-x_0)(x_2-x_1) & \\ddots   & \\vdots \\\\ \n",
    "\\vdots & \\vdots &  \\vdots  & \\ddots & 0 \\\\ \n",
    "1 & (x_n-x_0) &  (x_n-x_0)(x_n-x_1) & \\cdots & \\prod_{j = 0}^{n-1}(x_n-x_j)\n",
    "\\end{array}\n",
    "\\right]\\left[\\begin{array}{c}z_0\\\\ z_1\\\\ \\vdots \\\\ z_n \\end{array}\\right] = \\left[\\begin{array}{c}y_0\\\\ y_1\\\\ \\vdots \\\\ y_n \\end{array}\\right].\n",
    "$$\n",
    "\n",
    " >**À faire :** Écrire une fonction **Methode_Newton** qui implémente la méthode précédente avec en arguments d'entrée un vecteur $x\\_interp$ de points d'interpolation et un vecteur $x$ de points d'abscisse. Cette fonction returnera la matrice $N$ dont chaque colonne correspond au vecteur $n_i = N_{i,n}(x)$. "
   ]
  },
  {
   "cell_type": "code",
   "execution_count": 10,
   "metadata": {},
   "outputs": [
    {
     "name": "stdout",
     "output_type": "stream",
     "text": [
      "[1, array([ 0. ,  0.5,  1. ,  1.5,  2. ,  2.5,  3. ,  3.5,  4. ,  4.5,  5. ,\n",
      "        5.5]), array([ -0.  ,  -0.35,  -0.2 ,   0.45,   1.6 ,   3.25,   5.4 ,   8.05,\n",
      "        11.2 ,  14.85,  19.  ,  23.65]), array([  0.   ,   0.665,   0.28 ,  -0.405,  -0.64 ,   0.325,   3.24 ,\n",
      "         8.855,  17.92 ,  31.185,  49.4  ,  73.315]), array([  -0.    ,   -2.0615,   -0.728 ,    0.8505,    1.024 ,   -0.3575,\n",
      "         -1.944 ,   -0.8855,    7.168 ,   28.0665,   69.16  ,  139.2985]), array([  0.     ,   8.86445,   2.7664 ,  -2.80665,  -2.8672 ,   0.82225,\n",
      "         3.4992 ,   1.15115,  -5.7344 ,  -8.41995,  13.832  ,  97.50895])]\n"
     ]
    }
   ],
   "source": [
    "def Methode_Newton(x_interp,x):\n",
    "    N = []\n",
    "    for i in range (0,np.size(x_interp)):\n",
    "        nj = 1\n",
    "        for k in range (0,i):\n",
    "            nj = nj * (x-x_interp[k])\n",
    "        N.append(nj)\n",
    "    return N\n",
    "\n",
    "xi = Interp_Equi(-3,3,5)\n",
    "h=0.5\n",
    "xmin= -3.\n",
    "xmax= 3.\n",
    "\n",
    "x=np.arange(xmin,xmax,h)\n",
    "N = Methode_Newton(xi, x)\n",
    "\n",
    "print(N)"
   ]
  },
  {
   "cell_type": "markdown",
   "metadata": {},
   "source": [
    ">**À faire :** Écrire une fonction **Coeff_Newton** qui permet de calculer les coefficients $(z_j)_{0\\leq j\\leq n}$ en résolvant le système triangulaire inférieur par un algorithme de descente. Cette fonction prendra en entrée le vecteur $x\\_interp$ des points d'interpolation ainsi que la fonction $f$ à interpoler et rendra le vecteur $z$ des coefficients."
   ]
  },
  {
   "cell_type": "code",
   "execution_count": 11,
   "metadata": {},
   "outputs": [
    {
     "name": "stdout",
     "output_type": "stream",
     "text": [
      "[  1.00000000e-01   1.13207547e-01   1.26248613e-01  -8.32408435e-02\n",
      "   1.73418424e-02   1.02248147e-17]\n"
     ]
    }
   ],
   "source": [
    "def Coeff_Newton(x_interp,f):       \n",
    "    A = []\n",
    "    for n in range(0,np.size(x_interp)):\n",
    "        ligne = []\n",
    "        for j in range (0, np.size(x_interp)):\n",
    "            if(j==0):\n",
    "                ligne.append(1)\n",
    "            else:\n",
    "                ligne.append(ligne[j-1]*(x_interp[n]-x_interp[j-1]))\n",
    "        A.append(ligne)\n",
    "    \n",
    "    b = []\n",
    "    for i in range (0, np.size(x_interp)):\n",
    "        b.append(f(x_interp[i]))\n",
    "    z = npl.solve(A, b)\n",
    "    \n",
    "    return z\n",
    "\n",
    "xi = Interp_Equi(-3,3,5)\n",
    "z = Coeff_Newton(xi, Runge)\n",
    "print(z)"
   ]
  },
  {
   "cell_type": "markdown",
   "metadata": {},
   "source": [
    "On obtient alors le vecteur  $y = p(x)$ grâce au produit matrice-vecteur $y = Lz$.\n",
    "\n",
    ">**À faire :** Tracer ensuite sur une même figure la fonction **Runge** sur l'intervalle $[-3,3]$ ainsi que son polynôme d'interpolation obtenue avec la méthode de Newton pour $5$, $10$ et $15$ points d'interpolation."
   ]
  },
  {
   "cell_type": "code",
   "execution_count": 16,
   "metadata": {},
   "outputs": [
    {
     "data": {
      "text/plain": [
       "[-3, 3.0, 0.0, 3]"
      ]
     },
     "execution_count": 16,
     "metadata": {},
     "output_type": "execute_result"
    },
    {
     "data": {
      "image/png": "[encoded data removed]",
      "text/plain": [
       "<matplotlib.figure.Figure at 0x7f55fb3183c8>"
      ]
     },
     "metadata": {},
     "output_type": "display_data"
    }
   ],
   "source": [
    "xi = Interp_Equi(-3,3,150)\n",
    "\n",
    "# Inputs\n",
    "h=0.1\n",
    "xmin= -3.\n",
    "xmax= 3.\n",
    "\n",
    "# Functions\n",
    "x=np.arange(xmin,xmax,h)\n",
    "y= Runge(x)\n",
    "\n",
    "N = Methode_Newton(xi, x)\n",
    "Z = Coeff_Newton(xi, Runge)\n",
    "\n",
    "y_interp = 0. * x\n",
    "for j in range (0, np.size(xi)):\n",
    "    y_interp = y_interp + Z[j]*N[j]\n",
    "\n",
    "\n",
    "plt.plot(x, y)\n",
    "plt.plot(x,y_interp)\n",
    "plt.axis([-3,3.,0.,3])"
   ]
  },
  {
   "cell_type": "markdown",
   "metadata": {},
   "source": [
    "### Points d'interpolation de Chebyshev"
   ]
  },
  {
   "cell_type": "markdown",
   "metadata": {},
   "source": [
    "Les points de Chebyshev dans l'intervalle $[-1,1]$ sont donnés par la formule suivante\n",
    "$$\n",
    "y_j = \\cos\\left(\\dfrac{2i+1}{2(n+1)}\\pi\\right), \n",
    "\\quad 0\\leq j\\leq n.\n",
    "$$\n",
    "Afin d'adapter ces points à un intervalle $[a,b]$, on se basera sur la formule suivante\n",
    "$$\n",
    "x_j = \\frac{a+b}2 + \\frac{a-b}2 y_j,\n",
    "\\quad 0\\leq j\\leq n.\n",
    "$$\n",
    "\n",
    ">**À faire :** Implémenter une fonction **Interp_Chebyshev** qui prend en arguments d'entrée les valeurs $a$ et $b$ (qui définissent l'intervalle d'interpolation) ainsi que $m$ de manière à retourner un vecteur $x$ de $m$ points d'interpolations répartis selon les points de Chebyshev sur $[a,b]$. "
   ]
  },
  {
   "cell_type": "code",
   "execution_count": 13,
   "metadata": {},
   "outputs": [
    {
     "name": "stdout",
     "output_type": "stream",
     "text": [
      "[2.897777478867205, 2.1213203435596428, 0.77645713530756222, -0.77645713530756189, -2.1213203435596424]\n"
     ]
    }
   ],
   "source": [
    "def Interp_Chebyshev(a,b,m):\n",
    "    x = []\n",
    "    for j in range(0,m):\n",
    "        x.append((a+b)/2 + (b-a)/2*np.cos((2*j+1)*np.pi/(2*(m+1))))\n",
    "    return x\n",
    "\n",
    "xi = Interp_Chebyshev(-3,3,5)\n",
    "print(xi)"
   ]
  },
  {
   "cell_type": "markdown",
   "metadata": {
    "collapsed": true
   },
   "source": [
    ">**À faire :** Tracer ensuite sur une même figure la fonction **Runge** sur l'intervalle $[-3,3]$ ainsi que son polynôme d'interpolation obtenue avec la méthode de Newton pour $5$, $10$ et $15$ points d'interpolation."
   ]
  },
  {
   "cell_type": "code",
   "execution_count": 14,
   "metadata": {},
   "outputs": [
    {
     "data": {
      "text/plain": [
       "[-3, 3.0, 0.0, 3]"
      ]
     },
     "execution_count": 14,
     "metadata": {},
     "output_type": "execute_result"
    },
    {
     "data": {
      "image/png": "[encoded data removed]",
      "text/plain": [
       "<matplotlib.figure.Figure at 0x7f55fb3c6ef0>"
      ]
     },
     "metadata": {},
     "output_type": "display_data"
    }
   ],
   "source": [
    "xi = Interp_Chebyshev(-3,3,200)\n",
    "\n",
    "# Inputs\n",
    "h=0.1\n",
    "xmin= -3.\n",
    "xmax= 3.\n",
    "\n",
    "# Functions\n",
    "x=np.arange(xmin,xmax,h)\n",
    "y= Runge(x)\n",
    "\n",
    "N = Methode_Newton(xi, x)\n",
    "Z = Coeff_Newton(xi, Runge)\n",
    "\n",
    "y_interp = 0. * x\n",
    "for j in range (0, np.size(xi)):\n",
    "    y_interp = y_interp + Z[j]*N[j]\n",
    "\n",
    "\n",
    "plt.plot(x, y)\n",
    "plt.plot(x,y_interp)\n",
    "plt.axis([-3,3.,0.,3])"
   ]
  },
  {
   "cell_type": "markdown",
   "metadata": {
    "collapsed": true
   },
   "source": [
    "### Comparaison d'erreur selon la répartition des points d'interpolation\n",
    "\n",
    "Nous sommes à présent en mesure de quantifier numériquement la réduction de l'erreur qu'apporte la répartition suivant les points de Chebyshev en comparaison avec les points équirépartis. On introduit pour cela l'erreur\n",
    "$$\n",
    "e(n) = \\sup_{x\\in[-3,3]} |f(x) - p(x)|,\n",
    "$$\n",
    "où $f$ est la fonction à interpoler et $p$ est le polynôme d'interpolation de Lagrange de degré $n$. On veut comparer l'évolution de l'erreur en fonction de $n$ et du choix de la répartition des points d'interpolation.\n",
    "\n",
    ">**À faire :** Écrire une fonction **Erreur_Interp** permettant de calculer l'erreur $e(n)$ dans le cas de points d'interpolation équirépartis et le cas des points de Chebyshev. Cette fonction prendra en entrée l'entier $n$ ainsi qu'un entier $p$ et donnera en sortie un scalaire correspondant à l'erreur $e(n)$ pour les points équirépartis si $p = 0$ ou pour les points de Chebyshev si $p = 1$. L'interpolation se fera à l'aide de la méthode de Newton sur l'intervalle $[-3,3]$."
   ]
  },
  {
   "cell_type": "code",
   "execution_count": 15,
   "metadata": {},
   "outputs": [
    {
     "name": "stdout",
     "output_type": "stream",
     "text": [
      "16.5156941545\n"
     ]
    }
   ],
   "source": [
    "def Erreur_Interp(n,p):\n",
    "    xmin = -3\n",
    "    xmax = 3\n",
    "    points = n\n",
    "    \n",
    "    x=np.arange(xmin,xmax,h)\n",
    "    y= Runge(x)\n",
    "        \n",
    "    if p == 0:\n",
    "        xi = Interp_Equi(xmin,xmax,points)  \n",
    "    else:\n",
    "        xi = Interp_Chebyshev(xmin,xmax,points)\n",
    "   \n",
    "    N = Methode_Newton(xi, x)\n",
    "    Z = Coeff_Newton(xi, Runge)\n",
    "    y_interp = 0. * x\n",
    "    \n",
    "    e = 0;\n",
    "    \n",
    "    for j in range (0, n):\n",
    "        y_interp = y_interp + Z[j]*N[j]\n",
    "        \n",
    "        if(y[j]-y_interp[j] > e):\n",
    "            e = abs(y[j]-y_interp[j])\n",
    "    \n",
    "    return e\n",
    "\n",
    "e = Erreur_Interp(10,1)\n",
    "print(e)"
   ]
  },
  {
   "cell_type": "markdown",
   "metadata": {},
   "source": [
    ">**À faire :** Tracer sur une même figure l'évolution de l'erreur $\\log(e(n))$, en fonction de $n$, pour les points d'interpolation équirépartis et pour les points de Chebyshev de $1$ jusqu'à $100$ points."
   ]
  },
  {
   "cell_type": "code",
   "execution_count": null,
   "metadata": {
    "collapsed": true
   },
   "outputs": [],
   "source": []
  }
 ],
 "metadata": {
  "anaconda-cloud": {},
  "kernelspec": {
   "display_name": "Python [default]",
   "language": "python",
   "name": "python3"
  },
  "language_info": {
   "codemirror_mode": {
    "name": "ipython",
    "version": 3
   },
   "file_extension": ".py",
   "mimetype": "text/x-python",
   "name": "python",
   "nbconvert_exporter": "python",
   "pygments_lexer": "ipython3",
   "version": "3.6.1"
  }
 },
 "nbformat": 4,
 "nbformat_minor": 1
}
